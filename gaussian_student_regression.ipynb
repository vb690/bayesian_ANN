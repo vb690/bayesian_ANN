{
 "cells": [
  {
   "cell_type": "code",
   "execution_count": null,
   "id": "a669983a",
   "metadata": {},
   "outputs": [],
   "source": [
    "%load_ext autoreload\n",
    "%autoreload 2"
   ]
  },
  {
   "cell_type": "code",
   "execution_count": null,
   "id": "a4f155e4",
   "metadata": {},
   "outputs": [],
   "source": [
    "from sklearn.datasets import load_boston\n",
    "from sklearn.preprocessing import MinMaxScaler\n",
    "\n",
    "from sklearn.model_selection import ShuffleSplit\n",
    "\n",
    "import pymc3 as pm\n",
    "\n",
    "from modules.neural_networks import BayesianMLP"
   ]
  },
  {
   "cell_type": "code",
   "execution_count": null,
   "id": "71cfcc22",
   "metadata": {},
   "outputs": [],
   "source": [
    "X, y = load_boston(return_X_y=True)\n",
    "\n",
    "for tr_i, ts_i in ShuffleSplit(n_splits=1).split(X, y):\n",
    "    \n",
    "    X_tr, X_ts = X[tr_i], X[ts_i]\n",
    "    y_tr, y_ts = y[tr_i], y[ts_i]\n",
    "    \n",
    "    scaler = MinMaxScaler()\n",
    "    scaler.fit(X_tr)\n",
    "    X_tr = scaler.transform(X_tr)\n",
    "    X_ts = scaler.transform(X_ts)"
   ]
  },
  {
   "cell_type": "markdown",
   "id": "7840d3be",
   "metadata": {},
   "source": [
    "# Gaussian Likelyhood"
   ]
  },
  {
   "cell_type": "code",
   "execution_count": null,
   "id": "cd6535fd",
   "metadata": {},
   "outputs": [],
   "source": [
    "gaussian_perceptron = BayesianMLP(\n",
    "    X=X_tr, \n",
    "    y=y_tr, \n",
    "    shape_out=1, \n",
    "    likelyhood_model='gaussian_lk',\n",
    "    layers=(32, 16, 8, 4), \n",
    "    activation='relu',\n",
    "    batch_size=16,\n",
    "    prior=pm.Normal,\n",
    "    mu=0,\n",
    "    sigma=1\n",
    ")\n",
    "gaussian_perceptron.show_graph()"
   ]
  },
  {
   "cell_type": "code",
   "execution_count": null,
   "id": "21637ca2",
   "metadata": {},
   "outputs": [],
   "source": [
    "gaussian_perceptron.fit(n=100000)\n",
    "gaussian_traces = gaussian_perceptron.predict(\n",
    "    X_ts, \n",
    "    y_ts, \n",
    "    ['y']\n",
    ")"
   ]
  },
  {
   "cell_type": "markdown",
   "id": "8b897a7b",
   "metadata": {},
   "source": [
    "# Student-t Likelyhood"
   ]
  },
  {
   "cell_type": "code",
   "execution_count": null,
   "id": "83d76dfe",
   "metadata": {},
   "outputs": [],
   "source": [
    "student_perceptron = BayesianMLP(\n",
    "    X=X_tr, \n",
    "    y=y_tr, \n",
    "    shape_out=1, \n",
    "    likelyhood_model='student_lk',\n",
    "    layers=(32, 16, 8, 4), \n",
    "    activation='relu',\n",
    "    batch_size=16,\n",
    "    prior=pm.Normal,\n",
    "    mu=0,\n",
    "    sigma=1\n",
    ")\n",
    "student_perceptron.show_graph()"
   ]
  },
  {
   "cell_type": "code",
   "execution_count": null,
   "id": "f3d6e0ce",
   "metadata": {},
   "outputs": [],
   "source": [
    "student_perceptron.fit(n=100000)\n",
    "student_traces = student_perceptron.predict(\n",
    "    X_ts, \n",
    "    y_ts, \n",
    "    ['y']\n",
    ")"
   ]
  }
 ],
 "metadata": {
  "kernelspec": {
   "display_name": "Python 3",
   "language": "python",
   "name": "python3"
  },
  "language_info": {
   "codemirror_mode": {
    "name": "ipython",
    "version": 3
   },
   "file_extension": ".py",
   "mimetype": "text/x-python",
   "name": "python",
   "nbconvert_exporter": "python",
   "pygments_lexer": "ipython3",
   "version": "3.8.8"
  }
 },
 "nbformat": 4,
 "nbformat_minor": 5
}
