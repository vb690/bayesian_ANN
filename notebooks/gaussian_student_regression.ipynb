{
 "cells": [
  {
   "cell_type": "code",
   "execution_count": 1,
   "id": "a669983a",
   "metadata": {},
   "outputs": [],
   "source": [
    "%load_ext autoreload\n",
    "%autoreload 2"
   ]
  },
  {
   "cell_type": "code",
   "execution_count": 2,
   "id": "c542a9be",
   "metadata": {},
   "outputs": [
    {
     "name": "stdout",
     "output_type": "stream",
     "text": [
      "C:\\Users\\penthotal\\Desktop\\git_repositories\\bayesian_ANN\n"
     ]
    }
   ],
   "source": [
    "cd .."
   ]
  },
  {
   "cell_type": "code",
   "execution_count": 3,
   "id": "a4f155e4",
   "metadata": {},
   "outputs": [
    {
     "name": "stderr",
     "output_type": "stream",
     "text": [
      "WARNING (theano.tensor.blas): Using NumPy C-API based implementation for BLAS functions.\n"
     ]
    }
   ],
   "source": [
    "from sklearn.datasets import load_boston\n",
    "from sklearn.preprocessing import MinMaxScaler\n",
    "\n",
    "from sklearn.model_selection import ShuffleSplit\n",
    "\n",
    "import pymc3 as pm\n",
    "\n",
    "import matplotlib.pyplot as plt\n",
    "\n",
    "from modules.neural_networks import BayesianMLP"
   ]
  },
  {
   "cell_type": "code",
   "execution_count": 4,
   "id": "71cfcc22",
   "metadata": {},
   "outputs": [
    {
     "name": "stderr",
     "output_type": "stream",
     "text": [
      "C:\\Users\\penthotal\\miniconda3\\envs\\pr_test_env\\lib\\site-packages\\sklearn\\utils\\deprecation.py:87: FutureWarning: Function load_boston is deprecated; `load_boston` is deprecated in 1.0 and will be removed in 1.2.\n",
      "\n",
      "    The Boston housing prices dataset has an ethical problem. You can refer to\n",
      "    the documentation of this function for further details.\n",
      "\n",
      "    The scikit-learn maintainers therefore strongly discourage the use of this\n",
      "    dataset unless the purpose of the code is to study and educate about\n",
      "    ethical issues in data science and machine learning.\n",
      "\n",
      "    In this case special case, you can fetch the dataset from the original\n",
      "    source::\n",
      "\n",
      "        import pandas as pd\n",
      "        import numpy as np\n",
      "\n",
      "\n",
      "        data_url = \"http://lib.stat.cmu.edu/datasets/boston\"\n",
      "        raw_df = pd.read_csv(data_url, sep=\"\\s+\", skiprows=22, header=None)\n",
      "        data = np.hstack([raw_df.values[::2, :], raw_df.values[1::2, :2]])\n",
      "        target = raw_df.values[1::2, 2]\n",
      "\n",
      "    Alternative datasets include the California housing dataset (i.e.\n",
      "    func:`~sklearn.datasets.fetch_california_housing`) and the Ames housing\n",
      "    dataset. You can load the datasets as follows:\n",
      "\n",
      "        from sklearn.datasets import fetch_california_housing\n",
      "        housing = fetch_california_housing()\n",
      "\n",
      "    for the California housing dataset and:\n",
      "\n",
      "        from sklearn.datasets import fetch_openml\n",
      "        housing = fetch_openml(name=\"house_prices\", as_frame=True)\n",
      "\n",
      "    for the Ames housing dataset.\n",
      "    \n",
      "  warnings.warn(msg, category=FutureWarning)\n"
     ]
    }
   ],
   "source": [
    "X, y = load_boston(return_X_y=True)\n",
    "\n",
    "for tr_i, ts_i in ShuffleSplit(n_splits=1).split(X, y):\n",
    "    \n",
    "    X_tr, X_ts = X[tr_i], X[ts_i]\n",
    "    y_tr, y_ts = y[tr_i], y[ts_i]\n",
    "    \n",
    "    scaler = MinMaxScaler()\n",
    "    scaler.fit(X_tr)\n",
    "    X_tr = scaler.transform(X_tr)\n",
    "    X_ts = scaler.transform(X_ts)"
   ]
  },
  {
   "cell_type": "markdown",
   "id": "7840d3be",
   "metadata": {},
   "source": [
    "# Gaussian Likelyhood"
   ]
  },
  {
   "cell_type": "code",
   "execution_count": 5,
   "id": "cd6535fd",
   "metadata": {},
   "outputs": [
    {
     "name": "stderr",
     "output_type": "stream",
     "text": [
      "C:\\Users\\penthotal\\miniconda3\\envs\\pr_test_env\\lib\\site-packages\\pymc3\\data.py:316: FutureWarning: Using a non-tuple sequence for multidimensional indexing is deprecated; use `arr[tuple(seq)]` instead of `arr[seq]`. In the future this will be interpreted as an array index, `arr[np.array(seq)]`, which will result either in an error or a different result.\n",
      "  self.shared = theano.shared(data[in_memory_slc])\n",
      "C:\\Users\\penthotal\\miniconda3\\envs\\pr_test_env\\lib\\site-packages\\pymc3\\data.py:316: FutureWarning: Using a non-tuple sequence for multidimensional indexing is deprecated; use `arr[tuple(seq)]` instead of `arr[seq]`. In the future this will be interpreted as an array index, `arr[np.array(seq)]`, which will result either in an error or a different result.\n",
      "  self.shared = theano.shared(data[in_memory_slc])\n"
     ]
    },
    {
     "data": {
      "image/svg+xml": [
       "<?xml version=\"1.0\" encoding=\"UTF-8\" standalone=\"no\"?>\r\n",
       "<!DOCTYPE svg PUBLIC \"-//W3C//DTD SVG 1.1//EN\"\r\n",
       " \"http://www.w3.org/Graphics/SVG/1.1/DTD/svg11.dtd\">\r\n",
       "<!-- Generated by graphviz version 2.38.0 (20140413.2041)\r\n",
       " -->\r\n",
       "<!-- Title: %3 Pages: 1 -->\r\n",
       "<svg width=\"969pt\" height=\"718pt\"\r\n",
       " viewBox=\"0.00 0.00 969.02 717.72\" xmlns=\"http://www.w3.org/2000/svg\" xmlns:xlink=\"http://www.w3.org/1999/xlink\">\r\n",
       "<g id=\"graph0\" class=\"graph\" transform=\"scale(1 1) rotate(0) translate(4 713.72)\">\r\n",
       "<title>%3</title>\r\n",
       "<polygon fill=\"white\" stroke=\"none\" points=\"-4,4 -4,-713.72 965.024,-713.72 965.024,4 -4,4\"/>\r\n",
       "<g id=\"clust1\" class=\"cluster\"><title>cluster13 x 16</title>\r\n",
       "<path fill=\"none\" stroke=\"black\" d=\"M20,-587.767C20,-587.767 172,-587.767 172,-587.767 178,-587.767 184,-593.767 184,-599.767 184,-599.767 184,-689.72 184,-689.72 184,-695.72 178,-701.72 172,-701.72 172,-701.72 20,-701.72 20,-701.72 14,-701.72 8,-695.72 8,-689.72 8,-689.72 8,-599.767 8,-599.767 8,-593.767 14,-587.767 20,-587.767\"/>\r\n",
       "<text text-anchor=\"middle\" x=\"155\" y=\"-595.567\" font-family=\"Times New Roman,serif\" font-size=\"14.00\">13 x 16</text>\r\n",
       "</g>\r\n",
       "<g id=\"clust8\" class=\"cluster\"><title>cluster4</title>\r\n",
       "<path fill=\"none\" stroke=\"black\" d=\"M591,-343.86C591,-343.86 923,-343.86 923,-343.86 929,-343.86 935,-349.86 935,-355.86 935,-355.86 935,-445.813 935,-445.813 935,-451.813 929,-457.813 923,-457.813 923,-457.813 591,-457.813 591,-457.813 585,-457.813 579,-451.813 579,-445.813 579,-445.813 579,-355.86 579,-355.86 579,-349.86 585,-343.86 591,-343.86\"/>\r\n",
       "<text text-anchor=\"middle\" x=\"923.5\" y=\"-351.66\" font-family=\"Times New Roman,serif\" font-size=\"14.00\">4</text>\r\n",
       "</g>\r\n",
       "<g id=\"clust7\" class=\"cluster\"><title>cluster8 x 4</title>\r\n",
       "<path fill=\"none\" stroke=\"black\" d=\"M407,-343.86C407,-343.86 559,-343.86 559,-343.86 565,-343.86 571,-349.86 571,-355.86 571,-355.86 571,-445.813 571,-445.813 571,-451.813 565,-457.813 559,-457.813 559,-457.813 407,-457.813 407,-457.813 401,-457.813 395,-451.813 395,-445.813 395,-445.813 395,-355.86 395,-355.86 395,-349.86 401,-343.86 407,-343.86\"/>\r\n",
       "<text text-anchor=\"middle\" x=\"549\" y=\"-351.66\" font-family=\"Times New Roman,serif\" font-size=\"14.00\">8 x 4</text>\r\n",
       "</g>\r\n",
       "<g id=\"clust10\" class=\"cluster\"><title>cluster455</title>\r\n",
       "<path fill=\"none\" stroke=\"black\" d=\"M728,-8C728,-8 810,-8 810,-8 816,-8 822,-14 822,-20 822,-20 822,-209.93 822,-209.93 822,-215.93 816,-221.93 810,-221.93 810,-221.93 728,-221.93 728,-221.93 722,-221.93 716,-215.93 716,-209.93 716,-209.93 716,-20 716,-20 716,-14 722,-8 728,-8\"/>\r\n",
       "<text text-anchor=\"middle\" x=\"803.5\" y=\"-15.8\" font-family=\"Times New Roman,serif\" font-size=\"14.00\">455</text>\r\n",
       "</g>\r\n",
       "<g id=\"clust2\" class=\"cluster\"><title>cluster16</title>\r\n",
       "<path fill=\"none\" stroke=\"black\" d=\"M204,-587.767C204,-587.767 344,-587.767 344,-587.767 350,-587.767 356,-593.767 356,-599.767 356,-599.767 356,-689.72 356,-689.72 356,-695.72 350,-701.72 344,-701.72 344,-701.72 204,-701.72 204,-701.72 198,-701.72 192,-695.72 192,-689.72 192,-689.72 192,-599.767 192,-599.767 192,-593.767 198,-587.767 204,-587.767\"/>\r\n",
       "<text text-anchor=\"middle\" x=\"341\" y=\"-595.567\" font-family=\"Times New Roman,serif\" font-size=\"14.00\">16</text>\r\n",
       "</g>\r\n",
       "<g id=\"clust5\" class=\"cluster\"><title>cluster8</title>\r\n",
       "<path fill=\"none\" stroke=\"black\" d=\"M442,-465.813C442,-465.813 582,-465.813 582,-465.813 588,-465.813 594,-471.813 594,-477.813 594,-477.813 594,-567.767 594,-567.767 594,-573.767 588,-579.767 582,-579.767 582,-579.767 442,-579.767 442,-579.767 436,-579.767 430,-573.767 430,-567.767 430,-567.767 430,-477.813 430,-477.813 430,-471.813 436,-465.813 442,-465.813\"/>\r\n",
       "<text text-anchor=\"middle\" x=\"582.5\" y=\"-473.613\" font-family=\"Times New Roman,serif\" font-size=\"14.00\">8</text>\r\n",
       "</g>\r\n",
       "<g id=\"clust3\" class=\"cluster\"><title>cluster455 x 16</title>\r\n",
       "<path fill=\"none\" stroke=\"black\" d=\"M144,-476.79C144,-476.79 226,-476.79 226,-476.79 232,-476.79 238,-482.79 238,-488.79 238,-488.79 238,-556.79 238,-556.79 238,-562.79 232,-568.79 226,-568.79 226,-568.79 144,-568.79 144,-568.79 138,-568.79 132,-562.79 132,-556.79 132,-556.79 132,-488.79 132,-488.79 132,-482.79 138,-476.79 144,-476.79\"/>\r\n",
       "<text text-anchor=\"middle\" x=\"205.5\" y=\"-484.59\" font-family=\"Times New Roman,serif\" font-size=\"14.00\">455 x 16</text>\r\n",
       "</g>\r\n",
       "<g id=\"clust4\" class=\"cluster\"><title>cluster16 x 8</title>\r\n",
       "<path fill=\"none\" stroke=\"black\" d=\"M258,-465.813C258,-465.813 410,-465.813 410,-465.813 416,-465.813 422,-471.813 422,-477.813 422,-477.813 422,-567.767 422,-567.767 422,-573.767 416,-579.767 410,-579.767 410,-579.767 258,-579.767 258,-579.767 252,-579.767 246,-573.767 246,-567.767 246,-567.767 246,-477.813 246,-477.813 246,-471.813 252,-465.813 258,-465.813\"/>\r\n",
       "<text text-anchor=\"middle\" x=\"396.5\" y=\"-473.613\" font-family=\"Times New Roman,serif\" font-size=\"14.00\">16 x 8</text>\r\n",
       "</g>\r\n",
       "<g id=\"clust9\" class=\"cluster\"><title>cluster455 x 4</title>\r\n",
       "<path fill=\"none\" stroke=\"black\" d=\"M513,-240.883C513,-240.883 595,-240.883 595,-240.883 601,-240.883 607,-246.883 607,-252.883 607,-252.883 607,-320.883 607,-320.883 607,-326.883 601,-332.883 595,-332.883 595,-332.883 513,-332.883 513,-332.883 507,-332.883 501,-326.883 501,-320.883 501,-320.883 501,-252.883 501,-252.883 501,-246.883 507,-240.883 513,-240.883\"/>\r\n",
       "<text text-anchor=\"middle\" x=\"578\" y=\"-248.683\" font-family=\"Times New Roman,serif\" font-size=\"14.00\">455 x 4</text>\r\n",
       "</g>\r\n",
       "<g id=\"clust6\" class=\"cluster\"><title>cluster455 x 8</title>\r\n",
       "<path fill=\"none\" stroke=\"black\" d=\"M293,-354.837C293,-354.837 375,-354.837 375,-354.837 381,-354.837 387,-360.837 387,-366.837 387,-366.837 387,-434.837 387,-434.837 387,-440.837 381,-446.837 375,-446.837 375,-446.837 293,-446.837 293,-446.837 287,-446.837 281,-440.837 281,-434.837 281,-434.837 281,-366.837 281,-366.837 281,-360.837 287,-354.837 293,-354.837\"/>\r\n",
       "<text text-anchor=\"middle\" x=\"358\" y=\"-362.637\" font-family=\"Times New Roman,serif\" font-size=\"14.00\">455 x 8</text>\r\n",
       "</g>\r\n",
       "<!-- dense_weights_0 -->\r\n",
       "<g id=\"node1\" class=\"node\"><title>dense_weights_0</title>\r\n",
       "<ellipse fill=\"none\" stroke=\"black\" cx=\"96\" cy=\"-656.243\" rx=\"79.8063\" ry=\"37.4533\"/>\r\n",
       "<text text-anchor=\"middle\" x=\"96\" y=\"-667.543\" font-family=\"Times New Roman,serif\" font-size=\"14.00\">dense_weights_0</text>\r\n",
       "<text text-anchor=\"middle\" x=\"96\" y=\"-652.543\" font-family=\"Times New Roman,serif\" font-size=\"14.00\">~</text>\r\n",
       "<text text-anchor=\"middle\" x=\"96\" y=\"-637.543\" font-family=\"Times New Roman,serif\" font-size=\"14.00\">Laplace</text>\r\n",
       "</g>\r\n",
       "<!-- dense_0 -->\r\n",
       "<g id=\"node3\" class=\"node\"><title>dense_0</title>\r\n",
       "<polygon fill=\"none\" stroke=\"black\" points=\"229.5,-560.79 140.5,-560.79 140.5,-507.79 229.5,-507.79 229.5,-560.79\"/>\r\n",
       "<text text-anchor=\"middle\" x=\"185\" y=\"-545.59\" font-family=\"Times New Roman,serif\" font-size=\"14.00\">dense_0</text>\r\n",
       "<text text-anchor=\"middle\" x=\"185\" y=\"-530.59\" font-family=\"Times New Roman,serif\" font-size=\"14.00\">~</text>\r\n",
       "<text text-anchor=\"middle\" x=\"185\" y=\"-515.59\" font-family=\"Times New Roman,serif\" font-size=\"14.00\">Deterministic</text>\r\n",
       "</g>\r\n",
       "<!-- dense_weights_0&#45;&gt;dense_0 -->\r\n",
       "<g id=\"edge2\" class=\"edge\"><title>dense_weights_0&#45;&gt;dense_0</title>\r\n",
       "<path fill=\"none\" stroke=\"black\" d=\"M121.742,-620.548C133.721,-604.403 147.919,-585.267 159.826,-569.219\"/>\r\n",
       "<polygon fill=\"black\" stroke=\"black\" points=\"162.672,-571.257 165.82,-561.14 157.051,-567.086 162.672,-571.257\"/>\r\n",
       "</g>\r\n",
       "<!-- dense_biases_0 -->\r\n",
       "<g id=\"node2\" class=\"node\"><title>dense_biases_0</title>\r\n",
       "<ellipse fill=\"none\" stroke=\"black\" cx=\"274\" cy=\"-656.243\" rx=\"74.4932\" ry=\"37.4533\"/>\r\n",
       "<text text-anchor=\"middle\" x=\"274\" y=\"-667.543\" font-family=\"Times New Roman,serif\" font-size=\"14.00\">dense_biases_0</text>\r\n",
       "<text text-anchor=\"middle\" x=\"274\" y=\"-652.543\" font-family=\"Times New Roman,serif\" font-size=\"14.00\">~</text>\r\n",
       "<text text-anchor=\"middle\" x=\"274\" y=\"-637.543\" font-family=\"Times New Roman,serif\" font-size=\"14.00\">Laplace</text>\r\n",
       "</g>\r\n",
       "<!-- dense_biases_0&#45;&gt;dense_0 -->\r\n",
       "<g id=\"edge1\" class=\"edge\"><title>dense_biases_0&#45;&gt;dense_0</title>\r\n",
       "<path fill=\"none\" stroke=\"black\" d=\"M248.496,-620.869C236.424,-604.598 222.055,-585.232 210.042,-569.041\"/>\r\n",
       "<polygon fill=\"black\" stroke=\"black\" points=\"212.768,-566.842 203.999,-560.896 207.147,-571.013 212.768,-566.842\"/>\r\n",
       "</g>\r\n",
       "<!-- dense_1 -->\r\n",
       "<g id=\"node6\" class=\"node\"><title>dense_1</title>\r\n",
       "<polygon fill=\"none\" stroke=\"black\" points=\"378.5,-438.837 289.5,-438.837 289.5,-385.837 378.5,-385.837 378.5,-438.837\"/>\r\n",
       "<text text-anchor=\"middle\" x=\"334\" y=\"-423.637\" font-family=\"Times New Roman,serif\" font-size=\"14.00\">dense_1</text>\r\n",
       "<text text-anchor=\"middle\" x=\"334\" y=\"-408.637\" font-family=\"Times New Roman,serif\" font-size=\"14.00\">~</text>\r\n",
       "<text text-anchor=\"middle\" x=\"334\" y=\"-393.637\" font-family=\"Times New Roman,serif\" font-size=\"14.00\">Deterministic</text>\r\n",
       "</g>\r\n",
       "<!-- dense_0&#45;&gt;dense_1 -->\r\n",
       "<g id=\"edge3\" class=\"edge\"><title>dense_0&#45;&gt;dense_1</title>\r\n",
       "<path fill=\"none\" stroke=\"black\" d=\"M203.176,-507.67C213.551,-494.185 227.381,-477.974 242,-465.813 253.601,-456.163 267.217,-447.308 280.366,-439.729\"/>\r\n",
       "<polygon fill=\"black\" stroke=\"black\" points=\"282.347,-442.631 289.363,-434.692 278.928,-436.523 282.347,-442.631\"/>\r\n",
       "</g>\r\n",
       "<!-- dense_weights_1 -->\r\n",
       "<g id=\"node4\" class=\"node\"><title>dense_weights_1</title>\r\n",
       "<ellipse fill=\"none\" stroke=\"black\" cx=\"334\" cy=\"-534.29\" rx=\"79.8062\" ry=\"37.4533\"/>\r\n",
       "<text text-anchor=\"middle\" x=\"334\" y=\"-545.59\" font-family=\"Times New Roman,serif\" font-size=\"14.00\">dense_weights_1</text>\r\n",
       "<text text-anchor=\"middle\" x=\"334\" y=\"-530.59\" font-family=\"Times New Roman,serif\" font-size=\"14.00\">~</text>\r\n",
       "<text text-anchor=\"middle\" x=\"334\" y=\"-515.59\" font-family=\"Times New Roman,serif\" font-size=\"14.00\">Laplace</text>\r\n",
       "</g>\r\n",
       "<!-- dense_weights_1&#45;&gt;dense_1 -->\r\n",
       "<g id=\"edge5\" class=\"edge\"><title>dense_weights_1&#45;&gt;dense_1</title>\r\n",
       "<path fill=\"none\" stroke=\"black\" d=\"M334,-496.648C334,-481.679 334,-464.412 334,-449.493\"/>\r\n",
       "<polygon fill=\"black\" stroke=\"black\" points=\"337.5,-449.111 334,-439.111 330.5,-449.111 337.5,-449.111\"/>\r\n",
       "</g>\r\n",
       "<!-- dense_biases_1 -->\r\n",
       "<g id=\"node5\" class=\"node\"><title>dense_biases_1</title>\r\n",
       "<ellipse fill=\"none\" stroke=\"black\" cx=\"512\" cy=\"-534.29\" rx=\"74.4932\" ry=\"37.4533\"/>\r\n",
       "<text text-anchor=\"middle\" x=\"512\" y=\"-545.59\" font-family=\"Times New Roman,serif\" font-size=\"14.00\">dense_biases_1</text>\r\n",
       "<text text-anchor=\"middle\" x=\"512\" y=\"-530.59\" font-family=\"Times New Roman,serif\" font-size=\"14.00\">~</text>\r\n",
       "<text text-anchor=\"middle\" x=\"512\" y=\"-515.59\" font-family=\"Times New Roman,serif\" font-size=\"14.00\">Laplace</text>\r\n",
       "</g>\r\n",
       "<!-- dense_biases_1&#45;&gt;dense_1 -->\r\n",
       "<g id=\"edge4\" class=\"edge\"><title>dense_biases_1&#45;&gt;dense_1</title>\r\n",
       "<path fill=\"none\" stroke=\"black\" d=\"M477.965,-500.903C463.034,-488.272 444.671,-474.718 426,-465.813 411.597,-458.945 405.412,-464.663 391,-457.813 383.746,-454.366 376.558,-449.863 369.855,-445.048\"/>\r\n",
       "<polygon fill=\"black\" stroke=\"black\" points=\"371.741,-442.086 361.656,-438.838 367.514,-447.666 371.741,-442.086\"/>\r\n",
       "</g>\r\n",
       "<!-- dense_2 -->\r\n",
       "<g id=\"node10\" class=\"node\"><title>dense_2</title>\r\n",
       "<polygon fill=\"none\" stroke=\"black\" points=\"598.5,-324.883 509.5,-324.883 509.5,-271.883 598.5,-271.883 598.5,-324.883\"/>\r\n",
       "<text text-anchor=\"middle\" x=\"554\" y=\"-309.683\" font-family=\"Times New Roman,serif\" font-size=\"14.00\">dense_2</text>\r\n",
       "<text text-anchor=\"middle\" x=\"554\" y=\"-294.683\" font-family=\"Times New Roman,serif\" font-size=\"14.00\">~</text>\r\n",
       "<text text-anchor=\"middle\" x=\"554\" y=\"-279.683\" font-family=\"Times New Roman,serif\" font-size=\"14.00\">Deterministic</text>\r\n",
       "</g>\r\n",
       "<!-- dense_1&#45;&gt;dense_2 -->\r\n",
       "<g id=\"edge8\" class=\"edge\"><title>dense_1&#45;&gt;dense_2</title>\r\n",
       "<path fill=\"none\" stroke=\"black\" d=\"M350.089,-385.516C360.202,-371.286 374.452,-354.417 391,-343.86 423.608,-323.057 465.869,-311.885 499.188,-305.941\"/>\r\n",
       "<polygon fill=\"black\" stroke=\"black\" points=\"499.937,-309.364 509.221,-304.259 498.78,-302.46 499.937,-309.364\"/>\r\n",
       "</g>\r\n",
       "<!-- dense_weights_2 -->\r\n",
       "<g id=\"node7\" class=\"node\"><title>dense_weights_2</title>\r\n",
       "<ellipse fill=\"none\" stroke=\"black\" cx=\"483\" cy=\"-412.337\" rx=\"79.8062\" ry=\"37.4533\"/>\r\n",
       "<text text-anchor=\"middle\" x=\"483\" y=\"-423.637\" font-family=\"Times New Roman,serif\" font-size=\"14.00\">dense_weights_2</text>\r\n",
       "<text text-anchor=\"middle\" x=\"483\" y=\"-408.637\" font-family=\"Times New Roman,serif\" font-size=\"14.00\">~</text>\r\n",
       "<text text-anchor=\"middle\" x=\"483\" y=\"-393.637\" font-family=\"Times New Roman,serif\" font-size=\"14.00\">Laplace</text>\r\n",
       "</g>\r\n",
       "<!-- dense_weights_2&#45;&gt;dense_2 -->\r\n",
       "<g id=\"edge6\" class=\"edge\"><title>dense_weights_2&#45;&gt;dense_2</title>\r\n",
       "<path fill=\"none\" stroke=\"black\" d=\"M505.27,-376.221C513.877,-362.649 523.695,-347.169 532.252,-333.676\"/>\r\n",
       "<polygon fill=\"black\" stroke=\"black\" points=\"535.267,-335.456 537.667,-325.137 529.356,-331.707 535.267,-335.456\"/>\r\n",
       "</g>\r\n",
       "<!-- dense_weights_mu -->\r\n",
       "<g id=\"node8\" class=\"node\"><title>dense_weights_mu</title>\r\n",
       "<ellipse fill=\"none\" stroke=\"black\" cx=\"840\" cy=\"-412.337\" rx=\"86.9483\" ry=\"37.4533\"/>\r\n",
       "<text text-anchor=\"middle\" x=\"840\" y=\"-423.637\" font-family=\"Times New Roman,serif\" font-size=\"14.00\">dense_weights_mu</text>\r\n",
       "<text text-anchor=\"middle\" x=\"840\" y=\"-408.637\" font-family=\"Times New Roman,serif\" font-size=\"14.00\">~</text>\r\n",
       "<text text-anchor=\"middle\" x=\"840\" y=\"-393.637\" font-family=\"Times New Roman,serif\" font-size=\"14.00\">Laplace</text>\r\n",
       "</g>\r\n",
       "<!-- dense_mu -->\r\n",
       "<g id=\"node14\" class=\"node\"><title>dense_mu</title>\r\n",
       "<polygon fill=\"none\" stroke=\"black\" points=\"813.5,-213.93 724.5,-213.93 724.5,-160.93 813.5,-160.93 813.5,-213.93\"/>\r\n",
       "<text text-anchor=\"middle\" x=\"769\" y=\"-198.73\" font-family=\"Times New Roman,serif\" font-size=\"14.00\">dense_mu</text>\r\n",
       "<text text-anchor=\"middle\" x=\"769\" y=\"-183.73\" font-family=\"Times New Roman,serif\" font-size=\"14.00\">~</text>\r\n",
       "<text text-anchor=\"middle\" x=\"769\" y=\"-168.73\" font-family=\"Times New Roman,serif\" font-size=\"14.00\">Deterministic</text>\r\n",
       "</g>\r\n",
       "<!-- dense_weights_mu&#45;&gt;dense_mu -->\r\n",
       "<g id=\"edge10\" class=\"edge\"><title>dense_weights_mu&#45;&gt;dense_mu</title>\r\n",
       "<path fill=\"none\" stroke=\"black\" d=\"M811.127,-376.838C802.322,-364.601 793.52,-350.274 788,-335.86 774.089,-299.534 769.972,-254.875 768.939,-224.289\"/>\r\n",
       "<polygon fill=\"black\" stroke=\"black\" points=\"772.433,-224.006 768.691,-214.094 765.436,-224.176 772.433,-224.006\"/>\r\n",
       "</g>\r\n",
       "<!-- dense_biases_2 -->\r\n",
       "<g id=\"node9\" class=\"node\"><title>dense_biases_2</title>\r\n",
       "<ellipse fill=\"none\" stroke=\"black\" cx=\"661\" cy=\"-412.337\" rx=\"74.4932\" ry=\"37.4533\"/>\r\n",
       "<text text-anchor=\"middle\" x=\"661\" y=\"-423.637\" font-family=\"Times New Roman,serif\" font-size=\"14.00\">dense_biases_2</text>\r\n",
       "<text text-anchor=\"middle\" x=\"661\" y=\"-408.637\" font-family=\"Times New Roman,serif\" font-size=\"14.00\">~</text>\r\n",
       "<text text-anchor=\"middle\" x=\"661\" y=\"-393.637\" font-family=\"Times New Roman,serif\" font-size=\"14.00\">Laplace</text>\r\n",
       "</g>\r\n",
       "<!-- dense_biases_2&#45;&gt;dense_2 -->\r\n",
       "<g id=\"edge7\" class=\"edge\"><title>dense_biases_2&#45;&gt;dense_2</title>\r\n",
       "<path fill=\"none\" stroke=\"black\" d=\"M629.475,-378.352C615.617,-363.852 599.377,-346.861 585.519,-332.361\"/>\r\n",
       "<polygon fill=\"black\" stroke=\"black\" points=\"587.954,-329.843 578.514,-325.033 582.894,-334.68 587.954,-329.843\"/>\r\n",
       "</g>\r\n",
       "<!-- dense_2&#45;&gt;dense_mu -->\r\n",
       "<g id=\"edge9\" class=\"edge\"><title>dense_2&#45;&gt;dense_mu</title>\r\n",
       "<path fill=\"none\" stroke=\"black\" d=\"M598.548,-274.808C632.308,-257.7 678.856,-234.111 714.78,-215.906\"/>\r\n",
       "<polygon fill=\"black\" stroke=\"black\" points=\"716.802,-218.806 724.14,-211.163 713.637,-212.562 716.802,-218.806\"/>\r\n",
       "</g>\r\n",
       "<!-- sigma -->\r\n",
       "<g id=\"node11\" class=\"node\"><title>sigma</title>\r\n",
       "<ellipse fill=\"none\" stroke=\"black\" cx=\"890\" cy=\"-187.43\" rx=\"58.8803\" ry=\"37.4533\"/>\r\n",
       "<text text-anchor=\"middle\" x=\"890\" y=\"-198.73\" font-family=\"Times New Roman,serif\" font-size=\"14.00\">sigma</text>\r\n",
       "<text text-anchor=\"middle\" x=\"890\" y=\"-183.73\" font-family=\"Times New Roman,serif\" font-size=\"14.00\">~</text>\r\n",
       "<text text-anchor=\"middle\" x=\"890\" y=\"-168.73\" font-family=\"Times New Roman,serif\" font-size=\"14.00\">HalfCauchy</text>\r\n",
       "</g>\r\n",
       "<!-- y -->\r\n",
       "<g id=\"node13\" class=\"node\"><title>y</title>\r\n",
       "<ellipse fill=\"lightgrey\" stroke=\"black\" cx=\"771\" cy=\"-76.4767\" rx=\"41.0244\" ry=\"37.4533\"/>\r\n",
       "<text text-anchor=\"middle\" x=\"771\" y=\"-87.7767\" font-family=\"Times New Roman,serif\" font-size=\"14.00\">y</text>\r\n",
       "<text text-anchor=\"middle\" x=\"771\" y=\"-72.7767\" font-family=\"Times New Roman,serif\" font-size=\"14.00\">~</text>\r\n",
       "<text text-anchor=\"middle\" x=\"771\" y=\"-57.7767\" font-family=\"Times New Roman,serif\" font-size=\"14.00\">Normal</text>\r\n",
       "</g>\r\n",
       "<!-- sigma&#45;&gt;y -->\r\n",
       "<g id=\"edge12\" class=\"edge\"><title>sigma&#45;&gt;y</title>\r\n",
       "<path fill=\"none\" stroke=\"black\" d=\"M856.852,-156.08C841.367,-141.903 822.899,-124.994 807.066,-110.498\"/>\r\n",
       "<polygon fill=\"black\" stroke=\"black\" points=\"809.269,-107.769 799.529,-103.598 804.542,-112.932 809.269,-107.769\"/>\r\n",
       "</g>\r\n",
       "<!-- dense_biases_mu -->\r\n",
       "<g id=\"node12\" class=\"node\"><title>dense_biases_mu</title>\r\n",
       "<ellipse fill=\"none\" stroke=\"black\" cx=\"879\" cy=\"-298.383\" rx=\"82.0488\" ry=\"37.4533\"/>\r\n",
       "<text text-anchor=\"middle\" x=\"879\" y=\"-309.683\" font-family=\"Times New Roman,serif\" font-size=\"14.00\">dense_biases_mu</text>\r\n",
       "<text text-anchor=\"middle\" x=\"879\" y=\"-294.683\" font-family=\"Times New Roman,serif\" font-size=\"14.00\">~</text>\r\n",
       "<text text-anchor=\"middle\" x=\"879\" y=\"-279.683\" font-family=\"Times New Roman,serif\" font-size=\"14.00\">Laplace</text>\r\n",
       "</g>\r\n",
       "<!-- dense_biases_mu&#45;&gt;dense_mu -->\r\n",
       "<g id=\"edge11\" class=\"edge\"><title>dense_biases_mu&#45;&gt;dense_mu</title>\r\n",
       "<path fill=\"none\" stroke=\"black\" d=\"M845.399,-264.102C831.751,-250.584 816.022,-235.004 802.396,-221.508\"/>\r\n",
       "<polygon fill=\"black\" stroke=\"black\" points=\"804.636,-218.801 795.068,-214.25 799.71,-223.774 804.636,-218.801\"/>\r\n",
       "</g>\r\n",
       "<!-- dense_mu&#45;&gt;y -->\r\n",
       "<g id=\"edge13\" class=\"edge\"><title>dense_mu&#45;&gt;y</title>\r\n",
       "<path fill=\"none\" stroke=\"black\" d=\"M769.469,-160.885C769.669,-149.977 769.909,-136.887 770.14,-124.347\"/>\r\n",
       "<polygon fill=\"black\" stroke=\"black\" points=\"773.645,-124.064 770.33,-114.002 766.646,-123.936 773.645,-124.064\"/>\r\n",
       "</g>\r\n",
       "</g>\r\n",
       "</svg>\r\n"
      ],
      "text/plain": [
       "<graphviz.dot.Digraph at 0x19a02a31400>"
      ]
     },
     "execution_count": 5,
     "metadata": {},
     "output_type": "execute_result"
    }
   ],
   "source": [
    "gaussian_perceptron = BayesianMLP(\n",
    "    X=X_tr, \n",
    "    y=y_tr, \n",
    "    shape_out=1, \n",
    "    likelyhood_model='gaussian_lk',\n",
    "    layers=(16, 8, 4), \n",
    "    activation='tanh',\n",
    "    batch_size=16,\n",
    "    prior=pm.Laplace,\n",
    "    mu=0,\n",
    "    b=1\n",
    ")\n",
    "gaussian_perceptron.show_graph()"
   ]
  },
  {
   "cell_type": "code",
   "execution_count": null,
   "id": "21637ca2",
   "metadata": {},
   "outputs": [
    {
     "name": "stderr",
     "output_type": "stream",
     "text": [
      "C:\\Users\\penthotal\\miniconda3\\envs\\pr_test_env\\lib\\site-packages\\theano\\gpuarray\\dnn.py:192: UserWarning: Your cuDNN version is more recent than Theano. If you encounter problems, try updating Theano or downgrading cuDNN to a version >= v5 and <= v7.\n",
      "  warnings.warn(\n"
     ]
    },
    {
     "data": {
      "text/html": [
       "\n",
       "    <div>\n",
       "        <style>\n",
       "            /* Turns off some styling */\n",
       "            progress {\n",
       "                /* gets rid of default border in Firefox and Opera. */\n",
       "                border: none;\n",
       "                /* Needs to be in here for Safari polyfill so background images work as expected. */\n",
       "                background-size: auto;\n",
       "            }\n",
       "            .progress-bar-interrupted, .progress-bar-interrupted::-webkit-progress-bar {\n",
       "                background: #F44336;\n",
       "            }\n",
       "        </style>\n",
       "      <progress value='133515' class='' max='500000' style='width:300px; height:20px; vertical-align: middle;'></progress>\n",
       "      26.70% [133515/500000 01:10<03:13 Average Loss = 60.972]\n",
       "    </div>\n",
       "    "
      ],
      "text/plain": [
       "<IPython.core.display.HTML object>"
      ]
     },
     "metadata": {},
     "output_type": "display_data"
    }
   ],
   "source": [
    "gaussian_perceptron.fit(n=500000)\n",
    "gaussian_traces = gaussian_perceptron.predict(\n",
    "    X_ts, \n",
    "    y_ts,\n",
    ")"
   ]
  },
  {
   "cell_type": "code",
   "execution_count": null,
   "id": "4b6f7933",
   "metadata": {},
   "outputs": [],
   "source": [
    "plt.scatter([i for i in range(len(y_ts))], abs(gaussian_traces['y'].mean(0).flatten() - y_ts), s=10)"
   ]
  },
  {
   "cell_type": "markdown",
   "id": "8b897a7b",
   "metadata": {},
   "source": [
    "# Student-t Likelyhood"
   ]
  },
  {
   "cell_type": "code",
   "execution_count": null,
   "id": "83d76dfe",
   "metadata": {},
   "outputs": [],
   "source": [
    "student_perceptron = BayesianMLP(\n",
    "    X=X_tr, \n",
    "    y=y_tr, \n",
    "    shape_out=1, \n",
    "    likelyhood_model='student_lk',\n",
    "    layers=(16, 8, 4), \n",
    "    activation='tanh',\n",
    "    batch_size=16,\n",
    "    prior=pm.Laplace,\n",
    "    mu=0,\n",
    "    b=1\n",
    ")\n",
    "student_perceptron.show_graph()"
   ]
  },
  {
   "cell_type": "code",
   "execution_count": null,
   "id": "f3d6e0ce",
   "metadata": {},
   "outputs": [],
   "source": [
    "student_perceptron.fit(n=500000)\n",
    "student_traces = student_perceptron.predict(\n",
    "    X_ts, \n",
    "    y_ts, \n",
    "    ['y']\n",
    ")"
   ]
  },
  {
   "cell_type": "code",
   "execution_count": null,
   "id": "697f1e18",
   "metadata": {},
   "outputs": [],
   "source": [
    "plt.scatter(\n",
    "    [i for i in range(len(y_ts))], \n",
    "    abs(student_traces['y'].mean(0).flatten() - y_ts), \n",
    "    s=10\n",
    ")"
   ]
  },
  {
   "cell_type": "code",
   "execution_count": null,
   "id": "8a79baea",
   "metadata": {},
   "outputs": [],
   "source": [
    "x = abs(student_traces['y'].mean(0).flatten() - y_ts) - abs(gaussian_traces['y'].mean(0).flatten() - y_ts)\n",
    "plt.scatter([i for i in range(len(y_ts))], x, s=10)\n",
    "plt.axhline(0, linestyle='--', c='r')"
   ]
  }
 ],
 "metadata": {
  "kernelspec": {
   "display_name": "Python 3 (ipykernel)",
   "language": "python",
   "name": "python3"
  },
  "language_info": {
   "codemirror_mode": {
    "name": "ipython",
    "version": 3
   },
   "file_extension": ".py",
   "mimetype": "text/x-python",
   "name": "python",
   "nbconvert_exporter": "python",
   "pygments_lexer": "ipython3",
   "version": "3.8.11"
  }
 },
 "nbformat": 4,
 "nbformat_minor": 5
}
